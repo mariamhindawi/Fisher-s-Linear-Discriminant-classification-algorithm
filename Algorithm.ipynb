{
 "cells": [
  {
   "cell_type": "markdown",
   "metadata": {},
   "source": [
    "## Imports"
   ]
  },
  {
   "cell_type": "code",
   "execution_count": 1,
   "metadata": {},
   "outputs": [],
   "source": [
    "import numpy as np\n",
    "import matplotlib.pyplot as plt\n",
    "%matplotlib inline"
   ]
  },
  {
   "cell_type": "markdown",
   "metadata": {},
   "source": [
    "<hr style=\"border:2px solid black\"> </hr>\n",
    "\n",
    "## Classifier class and functions"
   ]
  },
  {
   "cell_type": "markdown",
   "metadata": {},
   "source": [
    "Fisher linear classifier class"
   ]
  },
  {
   "cell_type": "code",
   "execution_count": 2,
   "metadata": {},
   "outputs": [],
   "source": [
    "class FisherLinearClassifier:\n",
    "    def __init__(self):\n",
    "        self.w_tilda = []\n",
    "        self.labels = []\n",
    "    \n",
    "    def train(self, X_train, Y_train, labels):\n",
    "        number_of_features = X_train.shape[1]\n",
    "        X_class1 = []\n",
    "        X_class2 = []\n",
    "\n",
    "        for i in range (0, len(X_train)):\n",
    "            if Y_train[i] == labels[0]:\n",
    "                X_class1.append(X_train[i])\n",
    "            else:\n",
    "                X_class2.append(X_train[i])\n",
    "\n",
    "        X_class1 = np.array(X_class1)\n",
    "        X_class2 = np.array(X_class2)\n",
    "        mean_class1 = np.mean(X_class1, axis=0)\n",
    "        mean_class2 = np.mean(X_class2, axis=0)\n",
    "\n",
    "        Sw_class1 = np.zeros((number_of_features, number_of_features))\n",
    "        Sw_class2 = np.zeros((number_of_features, number_of_features))\n",
    "        \n",
    "        for i in range(0, X_class1.shape[0]):\n",
    "            Sw_class1 += ((X_class1[i] - mean_class1).reshape(-1, 1) @ (X_class1[i] - mean_class1).reshape(-1, 1).T)\n",
    "        for i in range(0, X_class2.shape[0]):\n",
    "            Sw_class2 += ((X_class2[i] - mean_class2).reshape(-1, 1) @ (X_class2[i] - mean_class2).reshape(-1, 1).T)\n",
    "        Sw_inv = np.linalg.pinv(Sw_class1 + Sw_class2)\n",
    "\n",
    "        w = Sw_inv @ (mean_class1 - mean_class2)\n",
    "        w_node = -0.5 * (w.T @ (mean_class1 + mean_class2))\n",
    "        self.labels = labels\n",
    "        self.w_tilda = np.append(w, w_node).reshape(-1, 1)\n",
    "    \n",
    "    def predict_value(self, feature_vector):\n",
    "        result = self.w_tilda.T @ np.append(feature_vector, 1).reshape(-1, 1)\n",
    "        return result[0][0]\n",
    "    \n",
    "    def predict_label(self, feature_vector):\n",
    "        y = self.predict(feature_vector)\n",
    "        if (y > 0):\n",
    "            return labels[0]\n",
    "        return labels[1]"
   ]
  },
  {
   "cell_type": "markdown",
   "metadata": {},
   "source": [
    "Function to get the confusion matrix"
   ]
  },
  {
   "cell_type": "code",
   "execution_count": 3,
   "metadata": {},
   "outputs": [],
   "source": [
    "def get_confusion_matrix(Y_test, Y_predict, labels):\n",
    "    number_of_classes = len(labels)\n",
    "    confusion_matrix = np.zeros((number_of_classes, number_of_classes))\n",
    "    for i in range(len(Y_test)):\n",
    "        row = labels.index(Y_test[i])\n",
    "        column = labels.index(Y_predict[i])\n",
    "        confusion_matrix[row][column] += 1\n",
    "    return confusion_matrix"
   ]
  },
  {
   "cell_type": "markdown",
   "metadata": {},
   "source": [
    "Function to convert image to grayscale feature vector"
   ]
  },
  {
   "cell_type": "code",
   "execution_count": 4,
   "metadata": {},
   "outputs": [],
   "source": [
    "def convert_to_grayscale_vector(image):\n",
    "    feature_vector = []\n",
    "    for j in range(image.shape[0]):\n",
    "        for k in range(image.shape[1]):\n",
    "            r = image[j][k][0]\n",
    "            g = image[j][k][1]\n",
    "            b = image[j][k][2]\n",
    "            grayscale_value = 0.3*r + 0.59*g + 0.11*b\n",
    "            feature_vector.append(grayscale_value)\n",
    "    return feature_vector"
   ]
  },
  {
   "cell_type": "markdown",
   "metadata": {},
   "source": [
    "<hr style=\"border:2px solid black\"> </hr>\n",
    "\n",
    "## Getting the images and their labels"
   ]
  },
  {
   "cell_type": "markdown",
   "metadata": {},
   "source": [
    "Read training and testing images"
   ]
  },
  {
   "cell_type": "code",
   "execution_count": 5,
   "metadata": {},
   "outputs": [],
   "source": [
    "airplane_train_images = np.array([plt.imread(\"Data/Train/airplane/\"+str(i)+\".jpg\") for i in range(0, 5000)])\n",
    "automobile_train_images = np.array([plt.imread(\"Data/Train/automobile/\"+str(i)+\".jpg\") for i in range(0, 5000)])\n",
    "frog_train_images = np.array([plt.imread(\"Data/Train/frog/\"+str(i)+\".jpg\") for i in range(0, 5000)])\n",
    "\n",
    "airplane_test_images = np.array([plt.imread(\"Data/Test/airplane/\"+str(i)+\".jpg\") for i in range(0, 1000)])\n",
    "automobile_test_images = np.array([plt.imread(\"Data/Test/automobile/\"+str(i)+\".jpg\") for i in range(0, 1000)])\n",
    "frog_test_images = np.array([plt.imread(\"Data/Test/frog/\"+str(i)+\".jpg\") for i in range(0, 1000)])"
   ]
  },
  {
   "cell_type": "markdown",
   "metadata": {},
   "source": [
    "Getting separate labels for each class train data"
   ]
  },
  {
   "cell_type": "code",
   "execution_count": 6,
   "metadata": {},
   "outputs": [],
   "source": [
    "Y_airplane_train = [\"airplane\" for i in range(airplane_train_images.shape[0])]\n",
    "Y_airplane_train += [\"not_airplane\" for i in range(automobile_train_images.shape[0]+frog_train_images.shape[0])]\n",
    "airplane_labels = [\"airplane\", \"not_airplane\"]\n",
    "\n",
    "Y_automobile_train = [\"not_automobile\" for i in range(airplane_train_images.shape[0])]\n",
    "Y_automobile_train += [\"automobile\" for i in range(automobile_train_images.shape[0])]\n",
    "Y_automobile_train += [\"not_automobile\" for i in range(frog_train_images.shape[0])]\n",
    "automobile_labels = [\"automobile\", \"not_automobile\"]\n",
    "\n",
    "Y_frog_train = [\"not_frog\" for i in range(airplane_train_images.shape[0]+automobile_train_images.shape[0])]\n",
    "Y_frog_train += [\"frog\" for i in range(frog_train_images.shape[0])]\n",
    "frog_labels = [\"frog\", \"not_frog\"]"
   ]
  },
  {
   "cell_type": "markdown",
   "metadata": {},
   "source": [
    "Getting labels for all the classes train and test data"
   ]
  },
  {
   "cell_type": "code",
   "execution_count": 7,
   "metadata": {},
   "outputs": [],
   "source": [
    "Y_train = [\"airplane\" for i in range(airplane_train_images.shape[0])]\n",
    "Y_train += [\"automobile\" for i in range(automobile_train_images.shape[0])]\n",
    "Y_train += [\"frog\" for i in range(frog_train_images.shape[0])]\n",
    "\n",
    "Y_test = [\"airplane\" for i in range(airplane_test_images.shape[0])]\n",
    "Y_test += [\"automobile\" for i in range(automobile_test_images.shape[0])]\n",
    "Y_test += [\"frog\" for i in range(frog_test_images.shape[0])]\n",
    "\n",
    "labels = [\"airplane\", \"automobile\", \"frog\"]"
   ]
  },
  {
   "cell_type": "markdown",
   "metadata": {},
   "source": [
    "<hr style=\"border:2px solid black\"> </hr>\n",
    "\n",
    "## Testing RGB"
   ]
  },
  {
   "cell_type": "markdown",
   "metadata": {},
   "source": [
    "Transforming the images into feature vectors and normalizing them"
   ]
  },
  {
   "cell_type": "code",
   "execution_count": 8,
   "metadata": {},
   "outputs": [],
   "source": [
    "X_airplane_train = np.array([airplane_train_images[i].reshape(-1) for i in range(0, airplane_train_images.shape[0])])\n",
    "X_automobile_train = np.array([automobile_train_images[i].reshape(-1) for i in range(0, automobile_train_images.shape[0])])\n",
    "X_frog_train = np.array([frog_train_images[i].reshape(-1) for i in range(0, frog_train_images.shape[0])])\n",
    "\n",
    "X_airplane_test = np.array([airplane_test_images[i].reshape(-1) for i in range(0, airplane_test_images.shape[0])])\n",
    "X_automobile_test = np.array([automobile_test_images[i].reshape(-1) for i in range(0, automobile_test_images.shape[0])])\n",
    "X_frog_test = np.array([frog_test_images[i].reshape(-1) for i in range(0, frog_test_images.shape[0])])\n",
    "\n",
    "X_train = np.concatenate((X_airplane_train, X_automobile_train, X_frog_train)) / 255.0\n",
    "X_test = np.concatenate((X_airplane_test, X_automobile_test, X_frog_test)) / 255.0"
   ]
  },
  {
   "cell_type": "markdown",
   "metadata": {},
   "source": [
    "Construct Fischer's Linear Discriminant classifier for each of the 3 classes"
   ]
  },
  {
   "cell_type": "code",
   "execution_count": 9,
   "metadata": {},
   "outputs": [],
   "source": [
    "airplane_classifier = FisherLinearClassifier()\n",
    "airplane_classifier.train(X_train, Y_airplane_train, airplane_labels)"
   ]
  },
  {
   "cell_type": "code",
   "execution_count": null,
   "metadata": {},
   "outputs": [],
   "source": [
    "automobile_classifier = FisherLinearClassifier()\n",
    "automobile_classifier.train(X_train, Y_automobile_train, automobile_labels)"
   ]
  },
  {
   "cell_type": "code",
   "execution_count": null,
   "metadata": {},
   "outputs": [],
   "source": [
    "frog_classifier = FisherLinearClassifier()\n",
    "frog_classifier.train(X_train, Y_frog_train, frog_labels)"
   ]
  },
  {
   "cell_type": "markdown",
   "metadata": {},
   "source": [
    "Predict the label of the test images using the 3 classifers"
   ]
  },
  {
   "cell_type": "code",
   "execution_count": null,
   "metadata": {},
   "outputs": [],
   "source": [
    "Y_predict = []\n",
    "for i in range(X_test.shape[0]):\n",
    "    y1 = airplane_classifier.predict_value(X_test[i])\n",
    "    y2 = automobile_classifier.predict_value(X_test[i])\n",
    "    y3 = frog_classifier.predict_value(X_test[i])\n",
    "    if y1 >= y2 and y1>= y3:\n",
    "        Y_predict.append(\"airplane\")\n",
    "    elif y2 >= y1 and y2>= y3:\n",
    "        Y_predict.append(\"automobile\")\n",
    "    else:\n",
    "        Y_predict.append(\"frog\")"
   ]
  },
  {
   "cell_type": "markdown",
   "metadata": {},
   "source": [
    "Calculating the confusion matrix from the predicted labels"
   ]
  },
  {
   "cell_type": "code",
   "execution_count": null,
   "metadata": {},
   "outputs": [],
   "source": [
    "confusion_matrix = get_confusion_matrix(Y_test, Y_predict, labels)"
   ]
  },
  {
   "cell_type": "markdown",
   "metadata": {},
   "source": [
    "Plotting the results"
   ]
  },
  {
   "cell_type": "code",
   "execution_count": null,
   "metadata": {},
   "outputs": [],
   "source": [
    "accuracy = np.diag(confusion_matrix).sum()/X_test.shape[0]\n",
    "plt.rc(\"figure\", figsize=[5,5])\n",
    "plt.matshow(confusion_matrix,cmap=\"Blues\")\n",
    "plt.title(\"FLD+RGB = {0:0.3f}\".format(accuracy))\n",
    "for i in range(0,confusion_matrix.shape[0]):\n",
    "    for j in range(0,confusion_matrix.shape[1]):\n",
    "        plt.annotate(confusion_matrix[i,j],(j,i))\n",
    "plt.savefig(\"figure_rgb\")"
   ]
  },
  {
   "cell_type": "markdown",
   "metadata": {},
   "source": [
    "<hr style=\"border:2px solid black\"> </hr>\n",
    "\n",
    "## Testing Grayscale"
   ]
  },
  {
   "cell_type": "markdown",
   "metadata": {},
   "source": [
    "Transforming the images into feature vectors and normalizing them"
   ]
  },
  {
   "cell_type": "code",
   "execution_count": null,
   "metadata": {},
   "outputs": [],
   "source": [
    "X_airplane_train = np.array([convert_to_grayscale_vector(airplane_train_images[i]) for i in range(0, airplane_train_images.shape[0])])\n",
    "X_automobile_train = np.array([convert_to_grayscale_vector(automobile_train_images[i]) for i in range(0, automobile_train_images.shape[0])])\n",
    "X_frog_train = np.array([convert_to_grayscale_vector(frog_train_images[i]) for i in range(0, frog_train_images.shape[0])])\n",
    "\n",
    "X_airplane_test = np.array([convert_to_grayscale_vector(airplane_test_images[i]) for i in range(0, airplane_test_images.shape[0])])\n",
    "X_automobile_test = np.array([convert_to_grayscale_vector(automobile_test_images[i]) for i in range(0, automobile_test_images.shape[0])])\n",
    "X_frog_test = np.array([convert_to_grayscale_vector(frog_test_images[i]) for i in range(0, frog_test_images.shape[0])])\n",
    "\n",
    "X_train = np.concatenate((X_airplane_train, X_automobile_train, X_frog_train)) / 255.0\n",
    "X_test = np.concatenate((X_airplane_test, X_automobile_test, X_frog_test)) / 255.0"
   ]
  },
  {
   "cell_type": "markdown",
   "metadata": {},
   "source": [
    "Construct Fischer's Linear Discriminant classifier for each of the 3 classes"
   ]
  },
  {
   "cell_type": "code",
   "execution_count": null,
   "metadata": {},
   "outputs": [],
   "source": [
    "airplane_classifier = FisherLinearClassifier()\n",
    "airplane_classifier.train(X_train, Y_airplane_train, airplane_labels)"
   ]
  },
  {
   "cell_type": "code",
   "execution_count": null,
   "metadata": {},
   "outputs": [],
   "source": [
    "automobile_classifier = FisherLinearClassifier()\n",
    "automobile_classifier.train(X_train, Y_automobile_train, automobile_labels)"
   ]
  },
  {
   "cell_type": "code",
   "execution_count": null,
   "metadata": {},
   "outputs": [],
   "source": [
    "frog_classifier = FisherLinearClassifier()\n",
    "frog_classifier.train(X_train, Y_frog_train, frog_labels)"
   ]
  },
  {
   "cell_type": "markdown",
   "metadata": {},
   "source": [
    "Predict the label of the test images using the 3 classifers"
   ]
  },
  {
   "cell_type": "code",
   "execution_count": null,
   "metadata": {},
   "outputs": [],
   "source": [
    "Y_predict = []\n",
    "for i in range(X_test.shape[0]):\n",
    "    y1 = airplane_classifier.predict_value(X_test[i])\n",
    "    y2 = automobile_classifier.predict_value(X_test[i])\n",
    "    y3 = frog_classifier.predict_value(X_test[i])\n",
    "    if y1 >= y2 and y1>= y3:\n",
    "        Y_predict.append(\"airplane\")\n",
    "    elif y2 >= y1 and y2>= y3:\n",
    "        Y_predict.append(\"automobile\")\n",
    "    else:\n",
    "        Y_predict.append(\"frog\")"
   ]
  },
  {
   "cell_type": "markdown",
   "metadata": {},
   "source": [
    "Calculating the confusion matrix from the predicted labels"
   ]
  },
  {
   "cell_type": "code",
   "execution_count": null,
   "metadata": {},
   "outputs": [],
   "source": [
    "confusion_matrix = get_confusion_matrix(Y_test, Y_predict, labels)"
   ]
  },
  {
   "cell_type": "markdown",
   "metadata": {},
   "source": [
    "Plotting the results"
   ]
  },
  {
   "cell_type": "code",
   "execution_count": null,
   "metadata": {},
   "outputs": [],
   "source": [
    "accuracy = np.diag(confusion_matrix).sum()/X_test.shape[0]\n",
    "plt.rc(\"figure\", figsize=[5,5])\n",
    "plt.matshow(confusion_matrix,cmap=\"Blues\")\n",
    "plt.title(\"FLD+GRAY = {0:0.3f}\".format(accuracy))\n",
    "for i in range(0,confusion_matrix.shape[0]):\n",
    "    for j in range(0,confusion_matrix.shape[1]):\n",
    "        plt.annotate(confusion_matrix[i,j],(j,i))\n",
    "plt.savefig(\"figure_grayscale\")"
   ]
  },
  {
   "cell_type": "markdown",
   "metadata": {},
   "source": [
    "<hr style=\"border:2px solid black\"> </hr>\n",
    "\n",
    "## Comments\n",
    "\n",
    "The accuracy decreased when the images were converted to grayscale than when the RGB representation was used. This is because of the details that are lost when we convert the image to grayscale, due to the loss of colour information from the image. The frog class had the biggest change in accuracy dropping from 78.8% to 53.8%. This can happen due to the frog images being the most sensitive class to colour, because of most the information that can help identify the frog coming from the colour of the pixels, for example, having a green body.\n",
    "\n",
    "<hr style=\"border:2px solid black\"> </hr>"
   ]
  }
 ],
 "metadata": {
  "interpreter": {
   "hash": "31f2aee4e71d21fbe5cf8b01ff0e069b9275f58929596ceb00d14d90e3e16cd6"
  },
  "kernelspec": {
   "display_name": "Python 3",
   "language": "python",
   "name": "python3"
  },
  "language_info": {
   "codemirror_mode": {
    "name": "ipython",
    "version": 3
   },
   "file_extension": ".py",
   "mimetype": "text/x-python",
   "name": "python",
   "nbconvert_exporter": "python",
   "pygments_lexer": "ipython3",
   "version": "3.8.12"
  }
 },
 "nbformat": 4,
 "nbformat_minor": 4
}
